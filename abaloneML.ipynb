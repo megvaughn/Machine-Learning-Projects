{
 "cells": [
  {
   "cell_type": "code",
   "execution_count": 24,
   "id": "2d1976ba",
   "metadata": {},
   "outputs": [
    {
     "name": "stdout",
     "output_type": "stream",
     "text": [
      "     sex      l      d      h      ww      sw      vw     slw   r\n",
      "0      M  0.455  0.365  0.095  0.5140  0.2245  0.1010  0.1500  15\n",
      "1      M  0.350  0.265  0.090  0.2255  0.0995  0.0485  0.0700   7\n",
      "2      F  0.530  0.420  0.135  0.6770  0.2565  0.1415  0.2100   9\n",
      "3      M  0.440  0.365  0.125  0.5160  0.2155  0.1140  0.1550  10\n",
      "4      I  0.330  0.255  0.080  0.2050  0.0895  0.0395  0.0550   7\n",
      "...   ..    ...    ...    ...     ...     ...     ...     ...  ..\n",
      "4172   F  0.565  0.450  0.165  0.8870  0.3700  0.2390  0.2490  11\n",
      "4173   M  0.590  0.440  0.135  0.9660  0.4390  0.2145  0.2605  10\n",
      "4174   M  0.600  0.475  0.205  1.1760  0.5255  0.2875  0.3080   9\n",
      "4175   F  0.625  0.485  0.150  1.0945  0.5310  0.2610  0.2960  10\n",
      "4176   M  0.710  0.555  0.195  1.9485  0.9455  0.3765  0.4950  12\n",
      "\n",
      "[4177 rows x 9 columns]\n",
      "          l      d      h      ww      sw      vw     slw  r\n",
      "0     0.455  0.365  0.095  0.5140  0.2245  0.1010  0.1500  5\n",
      "1     0.350  0.265  0.090  0.2255  0.0995  0.0485  0.0700  1\n",
      "2     0.530  0.420  0.135  0.6770  0.2565  0.1415  0.2100  2\n",
      "3     0.440  0.365  0.125  0.5160  0.2155  0.1140  0.1550  3\n",
      "4     0.330  0.255  0.080  0.2050  0.0895  0.0395  0.0550  1\n",
      "...     ...    ...    ...     ...     ...     ...     ... ..\n",
      "4172  0.565  0.450  0.165  0.8870  0.3700  0.2390  0.2490  4\n",
      "4173  0.590  0.440  0.135  0.9660  0.4390  0.2145  0.2605  3\n",
      "4174  0.600  0.475  0.205  1.1760  0.5255  0.2875  0.3080  2\n",
      "4175  0.625  0.485  0.150  1.0945  0.5310  0.2610  0.2960  3\n",
      "4176  0.710  0.555  0.195  1.9485  0.9455  0.3765  0.4950  4\n",
      "\n",
      "[4177 rows x 8 columns]\n"
     ]
    }
   ],
   "source": [
    "import pandas as pd\n",
    "\n",
    "cols = ['sex','l','d','h','ww','sw','vw','slw','r']\n",
    "labs = ['1','2','3','4','5']\n",
    "\n",
    "data = pd.read_csv('abalone.data', header = None, names = cols)\n",
    "print(data)\n",
    "\n",
    "data = pd.DataFrame(data)\n",
    "\n",
    "data = data.drop('sex', axis = 1)\n",
    "\n",
    "data['r'] = pd.qcut(data['r'], q=[0, 0.2, 0.4, 0.6, 0.8, 1.0], labels=labs)\n",
    "\n",
    "print(data)"
   ]
  },
  {
   "cell_type": "code",
   "execution_count": 25,
   "id": "31a5140d",
   "metadata": {},
   "outputs": [
    {
     "name": "stdout",
     "output_type": "stream",
     "text": [
      "k=3, Mean Accuracy: 0.4450708448573705\n",
      "k=5, Mean Accuracy: 0.46392595973971334\n",
      "k=7, Mean Accuracy: 0.4797937756773448\n",
      "k=9, Mean Accuracy: 0.49176221547935517\n",
      "k=11, Mean Accuracy: 0.49027102745182277\n"
     ]
    }
   ],
   "source": [
    "from sklearn.model_selection import train_test_split\n",
    "from sklearn.neighbors import KNeighborsClassifier\n",
    "from sklearn.metrics import accuracy_score\n",
    "import numpy as np\n",
    "from sklearn.model_selection import cross_val_score\n",
    "\n",
    "X = data[['l','d','h','ww','sw','vw','slw']]\n",
    "y = np.ravel(data[['r']])\n",
    "\n",
    "X_train, X_test, y_train, y_test = train_test_split(X, y, test_size=0.2, random_state = 120123)\n",
    "\n",
    "k_values = [3, 5, 7, 9, 11]\n",
    "for k in k_values:\n",
    "    knn_classifier = KNeighborsClassifier(n_neighbors=k)\n",
    "    scores = cross_val_score(knn_classifier, X_train_scaled, y_train, cv=5)\n",
    "    print(f'k={k}, Mean Accuracy: {scores.mean()}')"
   ]
  },
  {
   "cell_type": "code",
   "execution_count": 26,
   "id": "6c5913af",
   "metadata": {},
   "outputs": [],
   "source": [
    "from sklearn.preprocessing import StandardScaler\n",
    "\n",
    "scaler = StandardScaler()\n",
    "X_train_scaled = scaler.fit_transform(X_train)\n",
    "X_test_scaled = scaler.transform(X_test)"
   ]
  },
  {
   "cell_type": "code",
   "execution_count": 28,
   "id": "90477f50",
   "metadata": {},
   "outputs": [
    {
     "name": "stdout",
     "output_type": "stream",
     "text": [
      "{'n_neighbors': 9, 'weights': 'uniform'}\n",
      "KNeighborsClassifier(n_neighbors=9)\n"
     ]
    }
   ],
   "source": [
    "from sklearn.model_selection import GridSearchCV\n",
    "\n",
    "grid = {'n_neighbors': [3, 5, 7, 9, 11], 'weights': ['uniform', 'distance']}\n",
    "search = GridSearchCV(KNeighborsClassifier(), grid, cv = 5)\n",
    "search.fit(X_train_scaled, y_train)\n",
    "\n",
    "params = search.best_params_\n",
    "knn = search.best_estimator_\n",
    "\n",
    "print(params)\n",
    "print(knn)"
   ]
  },
  {
   "cell_type": "code",
   "execution_count": 30,
   "id": "209f1d05",
   "metadata": {},
   "outputs": [
    {
     "name": "stdout",
     "output_type": "stream",
     "text": [
      "Bagging Accuracy: 49.52%\n"
     ]
    }
   ],
   "source": [
    "from sklearn.ensemble import BaggingClassifier\n",
    "from sklearn.neighbors import KNeighborsClassifier\n",
    "from sklearn.model_selection import train_test_split\n",
    "from sklearn.metrics import accuracy_score\n",
    "\n",
    "knn_classifier = KNeighborsClassifier(n_neighbors = 9)\n",
    "\n",
    "bagging_classifier = BaggingClassifier(estimator = knn_classifier, n_estimators = 10, random_state = 120123)\n",
    "\n",
    "bagging_classifier.fit(X_train, y_train)\n",
    "\n",
    "y_pred = bagging_classifier.predict(X_test)\n",
    "\n",
    "accuracy = accuracy_score(y_test, y_pred)\n",
    "print(f\"Bagging Accuracy: {accuracy * 100:.2f}%\")"
   ]
  },
  {
   "cell_type": "code",
   "execution_count": null,
   "id": "4acb9605",
   "metadata": {},
   "outputs": [],
   "source": []
  }
 ],
 "metadata": {
  "kernelspec": {
   "display_name": "Python 3 (ipykernel)",
   "language": "python",
   "name": "python3"
  },
  "language_info": {
   "codemirror_mode": {
    "name": "ipython",
    "version": 3
   },
   "file_extension": ".py",
   "mimetype": "text/x-python",
   "name": "python",
   "nbconvert_exporter": "python",
   "pygments_lexer": "ipython3",
   "version": "3.11.4"
  }
 },
 "nbformat": 4,
 "nbformat_minor": 5
}
